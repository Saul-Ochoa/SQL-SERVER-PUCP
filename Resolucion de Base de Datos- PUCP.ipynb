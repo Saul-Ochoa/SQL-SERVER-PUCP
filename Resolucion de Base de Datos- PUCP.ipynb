{
    "metadata": {
        "kernelspec": {
            "name": "SQL",
            "display_name": "SQL",
            "language": "sql"
        },
        "language_info": {
            "name": "sql",
            "version": ""
        }
    },
    "nbformat_minor": 2,
    "nbformat": 4,
    "cells": [
        {
            "cell_type": "markdown",
            "source": [
                "```\n",
                "Resolucion del examen del curso de SQL Server – Implementaciónde Base de datos\n",
                "```"
            ],
            "metadata": {
                "azdata_cell_guid": "620da1b3-e35d-4aca-b3d5-e9d4ecd7a569"
            },
            "attachments": {}
        },
        {
            "cell_type": "code",
            "source": [
                "use [BD_CuentaCorriente12];\n",
                "----------------------------------------------------------------------------\n",
                "select * from CuentaCorriente\n",
                "select * from Cliente\n",
                "select * from Sucursal\n",
                "select * from TipoPago\n",
                "select * from Moneda"
            ],
            "metadata": {
                "azdata_cell_guid": "11143d8b-8058-4187-932a-36a6a6ac1bfc",
                "language": "sql"
            },
            "outputs": [],
            "execution_count": null
        },
        {
            "cell_type": "markdown",
            "source": [
                "----------------------------------------------------------------------------"
            ],
            "metadata": {
                "azdata_cell_guid": "dba6c748-3bfd-409b-8734-54c50b2728e9"
            }
        },
        {
            "cell_type": "markdown",
            "source": [
                "```\n",
                "Implemente una vista que devuelva los documentos que tengan importe abonado(campo: abono) mayor a cero.  La vista deberá mostrar los siguientes campos: CódigoCliente, Razón Social, RUC, Código Sucursal, Nombre Sucursal, Símbolo de Moneda,Tipo de Pago, Nro. Documento, Fecha Emisión, Fecha Vencimiento, Saldo\n",
                "```"
            ],
            "metadata": {
                "azdata_cell_guid": "c0053e8c-4890-42d1-b1a5-4bc03ab03556"
            },
            "attachments": {}
        },
        {
            "cell_type": "code",
            "source": [
                "create view vw_Documento_Importado\n",
                "as\n",
                "\tselect cc.CodigoCliente,c.Descripcion as 'Razon Social',c.RUC,s.Descripcion as 'Sucursal',\n",
                "\tm.Simbolo,t.Descripcion as 'Tipo de Pago',cc.NroDocumento,cc.FechaEmision,cc.FechaVencimiento,cc.Saldo from \n",
                "\tCuentaCorriente as cc\n",
                "\tinner join Cliente as c on  cc.CodigoCliente=c.CodigoCliente \n",
                "\tinner join Sucursal as s on cc.CodigoSucursal=s.CodigoSucursal \n",
                "\tinner join Moneda as m on cc.CodigoMoneda=m.CodigoMoneda \n",
                "\tinner join TipoPago as t on cc.CodigoTipoPago=t.CodigoTipoPago\n",
                "\twhere cc.Abono>0;"
            ],
            "metadata": {
                "azdata_cell_guid": "b783216b-6a96-4db0-afa7-a49978f655c5",
                "language": "sql"
            },
            "outputs": [],
            "execution_count": null
        },
        {
            "cell_type": "code",
            "source": [
                "select*from vw_Documento_Importado;"
            ],
            "metadata": {
                "azdata_cell_guid": "ff58a191-210e-4536-b4b1-8e24c880ebea",
                "language": "sql"
            },
            "outputs": [],
            "execution_count": null
        },
        {
            "cell_type": "markdown",
            "source": [
                "------------------------------------------------------------------------------------------------------------------"
            ],
            "metadata": {
                "azdata_cell_guid": "78443f78-2746-46de-a3ed-db9ed5a8d631"
            }
        },
        {
            "cell_type": "markdown",
            "source": [
                "```\n",
                "Implemente un procedimiento almacenado que devuelva el detalle de los documentosemitidos en dólares, el Importe Total y el Saldo convertido de Dólares a Soles.  El procedimiento recibirá como parámetro el tipo de cambio y el código del cliente (esteúltimo es opcional, en caso de no pasar el valor, el procedimiento debe devolver losdocumentos de todos los clientes)  El reporte debe mostrar los siguientes campos: Código Cliente, Razón Social, RUC, Eltotal en dólares y el total convertido en soles.\n",
                "```"
            ],
            "metadata": {
                "azdata_cell_guid": "d86464cc-fb26-43e0-9cf7-a33611337fc6"
            },
            "attachments": {}
        },
        {
            "cell_type": "code",
            "source": [
                "create PROCEDURE psu_pregunta_2\n",
                "( \n",
                "\t@CodCliente int = 0,\n",
                "\t@TasaDeCambio decimal(11,2)\n",
                ")\n",
                "\n",
                "as BEGIN\n",
                "if (@CodCliente=0)\n",
                "select cc.CodigoCliente,c.Descripcion as 'Razon Social',\n",
                "sum(cc.Total) as 'Total Dolares', round(sum(cc.Saldo/@TasaDeCambio),2)\n",
                "as 'Saldo Convertido Dolares' from CuentaCorriente as \n",
                "cc inner join Cliente as c on \n",
                "cc.CodigoCliente=c.CodigoCliente inner join Moneda as m on\n",
                "cc.CodigoMoneda=m.CodigoMoneda where cc.CodigoMoneda=2\n",
                "group BY cc.CodigoCliente,c.Descripcion,c.RUC\n",
                "else\n",
                "select cc.CodigoCliente,c.Descripcion as 'Razon Social',\n",
                "sum(cc.Total) as 'Total Dolares', round(sum(cc.Saldo/@TasaDeCambio),2)\n",
                "as 'Saldo Convertido Dolares' from CuentaCorriente as \n",
                "cc inner join Cliente as c on \n",
                "cc.CodigoCliente=c.CodigoCliente inner join Moneda as m on\n",
                "cc.CodigoMoneda=m.CodigoMoneda where cc.CodigoMoneda=2 and cc.CodigoCliente=@CodCliente\n",
                "group BY cc.CodigoCliente,c.Descripcion,c.RUC\n",
                "end\n",
                "EXECUTE psu_pregunta_2 4,3.81\n",
                "EXECUTE psu_pregunta_2 @TasaDeCambio=3.81"
            ],
            "metadata": {
                "azdata_cell_guid": "00deded7-964c-430b-828d-ef0faa092071",
                "language": "sql"
            },
            "outputs": [],
            "execution_count": null
        },
        {
            "cell_type": "markdown",
            "source": [
                "```\n",
                "Implemente un procedimiento almacenado que actualice el saldo de un documentocuando un cliente realice un abono. Considere como parámetro el Nro de Documento yel importe que se abona. Si el saldo es negativo, muestre un mensaje que el importeabonado excede el saldo.\n",
                "```"
            ],
            "metadata": {
                "azdata_cell_guid": "c5d2d772-2ae3-4651-ae66-3b00f4a79fc0"
            },
            "attachments": {}
        },
        {
            "cell_type": "code",
            "source": [
                "create PROCEDURE Pregunta3\n",
                "(\n",
                "\t@NroDocumento VARCHAR(20),\n",
                "\t@ImporteAbono decimal(11,2)\n",
                ")\n",
                "as BEGIN\n",
                "if (@ImporteAbono<(select saldo from CuentaCorriente as cc where cc.NroDocumento=@NroDocumento))\n",
                "UPDATE CuentaCorriente\n",
                "set Saldo=Saldo-@ImporteAbono where CuentaCorriente.NroDocumento = @NroDocumento\n",
                "ELSE\n",
                "PRINT 'El importe abonado excede al saldo'\n",
                "END\n",
                "execute Pregunta3 'DDC-0001-0000040042',100\n",
                "select * from CuentaCorriente where NroDocumento='DDC-0001-0000040042'"
            ],
            "metadata": {
                "azdata_cell_guid": "2632607e-0b20-4673-a320-f57785ea9432",
                "language": "sql"
            },
            "outputs": [],
            "execution_count": null
        },
        {
            "cell_type": "markdown",
            "source": [
                "```\n",
                "Implemente un procedimiento almacenado que retorne el reporte de documentosvencidos en un mes determinado y por tipo de moneda. El procedimiento almacenadodebe devolver: Código Cliente, Razón Social, RUC, Código Sucursal, Nombre Sucursal,Símbolo de Moneda, Tipo de Pago, Nro. Documento, Fecha Emisión, FechaVencimiento, Saldo.\n",
                "```"
            ],
            "metadata": {
                "azdata_cell_guid": "16d961e1-40e9-46b5-a7df-2f7af0f1a027"
            },
            "attachments": {}
        },
        {
            "cell_type": "code",
            "source": [
                "CREATE PROCEDURE spu_documentos_vencidos\n",
                "(\n",
                "@Fecha DATETIME,\n",
                "@tipomoneda VARCHAR(50)\n",
                ")\n",
                "as \n",
                "BEGIN\n",
                "select cc.CodigoCliente,c.Descripcion as 'Razon Social',c.RUC,cc.CodigoSucursal,\n",
                "s.Descripcion as 'NombreSucursal',m.Simbolo,tp.Descripcion as 'TipoPago',cc.NroDocumento,\n",
                "cc.FechaEmision,cc.FechaVencimiento,cc.Saldo from CuentaCorriente as cc inner JOIN Cliente as c\n",
                "on cc.CodigoCliente=c.CodigoCliente inner JOIN Sucursal as s on\n",
                "s.CodigoSucursal=cc.CodigoSucursal inner JOIN Moneda as m on\n",
                "m.CodigoMoneda=cc.CodigoMoneda inner JOIN TipoPago as tp on\n",
                "tp.CodigoTipoPago=cc.CodigoTipoPago \n",
                "where FechaVencimiento=@Fecha and m.Descripcion=@tipomoneda\n",
                "END\n",
                "\n",
                "EXECUTE spu_documentos_vencidos '2014-05-30', 'Nuevo Sol'"
            ],
            "metadata": {
                "azdata_cell_guid": "2e957e2a-97d3-4f21-9b40-43a0257158b2",
                "language": "sql"
            },
            "outputs": [],
            "execution_count": null
        }
    ]
}